{
 "cells": [
  {
   "cell_type": "markdown",
   "id": "2ecfbb4b0c704e67",
   "metadata": {
    "collapsed": false
   },
   "source": [
    "# Web Scraping and Introductory Data Analysis\n",
    "\n",
    "Welcome to Homework 0, where we will delve into web scraping and perform an introductory data analysis. This homework will be a hands-on exercise that will help you become familiar with the process of extracting data from websites and conducting basic statistical analysis. \n",
    "\n",
    "## Objectives\n",
    "\n",
    "By the end of this homework, you will be able to:\n",
    "\n",
    "1. Set up a Python environment with the necessary libraries for web scraping and data analysis.\n",
    "2. Write a web scraping script using Beautiful Soup and Selenium to collect data from a website.\n",
    "3. Sample from the collected dataset and compare the statistics of the sample and the population.\n",
    "   \n",
    "## Tasks\n",
    "\n",
    "1. **Environment Setup**: Install the required libraries such as Beautiful Soup, Selenium, pandas, numpy, matplotlib, and seaborn.\n",
    "\n",
    "2. **Web Scraping**: Write a script to scrape transaction data from [Etherscan.io](https://etherscan.io/txs). Use Selenium to interact with the website and Beautiful Soup to parse the HTML content.\n",
    "\n",
    "3. **Data Sampling**: Once the data is collected, create a sample from the dataset. Compare the sample statistics (mean and standard deviation) with the population statistics.\n",
    "\n",
    "\n",
    "## Deliverables\n",
    "\n",
    "1. A Jupyter notebook with all the code and explanations.\n",
    "2. A detailed report on the findings, including the comparison of sample and population statistics.\n",
    "Note: You can include the report in your notebook.\n",
    "\n",
    "## Getting Started\n",
    "\n",
    "Begin by setting up your Python environment and installing the necessary libraries. Then, proceed with the web scraping task, ensuring that you handle any potential issues such as rate limiting. Once you have the data, move on to the data sampling and statistical analysis tasks. \n",
    "\n",
    "Remember to document your process and findings in the Jupyter notebook, and to include visualizations where appropriate to illustrate your results. <br>\n",
    "Good luck, and happy scraping!"
   ]
  },
  {
   "cell_type": "markdown",
   "id": "1ca352a49724d191",
   "metadata": {
    "collapsed": false
   },
   "source": [
    "## Data Collection (Etherscan)\n",
    "\n",
    "In this section, we will use web scraping to gather transaction data from the Ethereum blockchain using the Etherscan block explorer. Our objective is to collect transactions from the **last 10 blocks** on Ethereum.\n",
    "\n",
    "To accomplish this task, we will employ web scraping techniques to extract the transaction data from the Etherscan website. The URL we will be targeting for our data collection is:\n",
    "\n",
    "[https://etherscan.io/txs](https://etherscan.io/txs)\n",
    "\n",
    "### Steps\n",
    "\n",
    "1. **Navigate to the URL**: Use Selenium to open the Etherscan transactions page in a browser.\n",
    "\n",
    "2. **Locate the Transaction Data**: Identify the HTML elements that contain the transaction data for the specified block range.\n",
    "\n",
    "3. **Extract the Data**: Write a script to extract the transaction details e.g. Hash, Method, Block, etc.\n",
    "\n",
    "4. **Handle Pagination**: If the transactions span multiple pages, implement pagination handling to navigate through the pages and collect all relevant transaction data.\n",
    "\n",
    "5. **Store the Data**: Save the extracted transaction data into a structured format, such as a CSV file or a pandas DataFrame, for further analysis.\n",
    "\n",
    "### Considerations\n",
    "\n",
    "- **Rate Limiting**: Be mindful of the website's rate limits to avoid being blocked. Implement delays between requests if necessary.\n",
    "- **Dynamic Content**: The Etherscan website may load content dynamically. Ensure that Selenium waits for the necessary elements to load before attempting to scrape the data.\n",
    "- **Data Cleaning**: After extraction, clean the data to remove any inconsistencies or errors that may have occurred during the scraping process.\n",
    "\n",
    "### Resources\n",
    "\n",
    "- [Beautiful Soup Documentation](https://www.crummy.com/software/BeautifulSoup/bs4/doc/)\n",
    "- [Selenium Documentation](https://selenium-python.readthedocs.io/)\n",
    "- [Pandas Documentation](https://pandas.pydata.org/docs/)\n",
    "- [Ethereum](https://ethereum.org/en/)"
   ]
  },
  {
   "cell_type": "markdown",
   "id": "5887620a",
   "metadata": {},
   "source": [
    "## Our code"
   ]
  },
  {
   "cell_type": "markdown",
   "id": "8623af59",
   "metadata": {},
   "source": [
    "First we make a new csv file which will be used for storing the data later, then we get the number of last 10 blocks and finally we extract the data for each block. After testing we found out there is no need for waiting for the data to be loaded nor is there any need for limiting the requests rate, so we commented the sleeps. We extract two set of data one is the recent 10 blocks and the other is 10 random blocks from all the existing blocks on the website. Some blocks have no data so we if any exception is raised we skip the block."
   ]
  },
  {
   "cell_type": "markdown",
   "id": "762b3e27",
   "metadata": {},
   "source": [
    "**Importing necessary libraries**"
   ]
  },
  {
   "cell_type": "code",
   "execution_count": 33,
   "id": "54fa10db-ec9e-4921-870a-50066926ed2d",
   "metadata": {},
   "outputs": [],
   "source": [
    "from bs4 import BeautifulSoup as bs\n",
    "from selenium import webdriver\n",
    "from time import sleep\n",
    "import pandas as pd\n",
    "import csv\n",
    "import matplotlib.pyplot as plt\n",
    "from scipy.stats import norm\n",
    "import numpy as np\n",
    "import random"
   ]
  },
  {
   "cell_type": "markdown",
   "id": "666488d1",
   "metadata": {},
   "source": [
    "**Making a new CSV file for storing the data**"
   ]
  },
  {
   "cell_type": "code",
   "execution_count": 34,
   "id": "26616a8f",
   "metadata": {},
   "outputs": [],
   "source": [
    "def make_new_csv(file_addr):\n",
    "    with open(file_addr, mode='w') as transactions_file:\n",
    "        transactionCSV = csv.writer(transactions_file)\n",
    "        transactionCSV.writerow(\n",
    "            ['Transaction Hash', 'Method', 'Block Number', 'Age', 'From', 'To', 'Value', 'Txn Fee', 'Warning', 'Danger'])"
   ]
  },
  {
   "cell_type": "markdown",
   "id": "cb588481",
   "metadata": {},
   "source": [
    "**Writing data to the CSV file**"
   ]
  },
  {
   "cell_type": "code",
   "execution_count": 35,
   "id": "a2f22c96",
   "metadata": {},
   "outputs": [],
   "source": [
    "def write_to_csv(transactionList, file_addr):\n",
    "    with open(file_addr, mode='a', encoding='utf-8') as transactions_file:\n",
    "        transactionCSV=csv.writer(transactions_file)\n",
    "        for transaction in transactionList:\n",
    "            tds=transaction.find_all('td')\n",
    "            transaction_hash=tds[1].text[4:-4]\n",
    "            method = tds[2].text\n",
    "            block_number = tds[3].text\n",
    "            age = tds[5].text\n",
    "            transaction_from = tds[7].text[4:-5]\n",
    "            transaction_to = tds[9].text[4:-7]\n",
    "            value = tds[10].text[:-4]\n",
    "            txn_fee = tds[11].text\n",
    "            warning = \"None\"\n",
    "            if tds[1].find('span', {'class': 'text-warning'}) is not None:\n",
    "                warning = tds[1].find(\n",
    "                    'span', {'class': 'text-warning'}).get(\"data-bs-title\")\n",
    "            danger = \"None\"\n",
    "            if tds[1].find('span', {'class': 'text-danger'}) is not None:\n",
    "                danger = tds[1].find(\n",
    "                    'span', {'class': 'text-danger'}).get(\"data-bs-title\")\n",
    "            transactionCSV.writerow([transaction_hash, method,block_number,age,transaction_from,transaction_to,value,txn_fee,warning,danger])"
   ]
  },
  {
   "cell_type": "markdown",
   "id": "9313c3b9",
   "metadata": {},
   "source": [
    "**Scraping data from a specific block**"
   ]
  },
  {
   "cell_type": "code",
   "execution_count": 36,
   "id": "25abc08e",
   "metadata": {},
   "outputs": [],
   "source": [
    "class BlockNotFound(Exception):\n",
    "    pass"
   ]
  },
  {
   "cell_type": "code",
   "execution_count": 37,
   "id": "586b24ec",
   "metadata": {},
   "outputs": [],
   "source": [
    "def scrape_block_data(block_number, driver, file_addr):\n",
    "    driver.get(f'https://etherscan.io/txs?block={block_number}')\n",
    "    page = driver.page_source\n",
    "    soup = bs(page, 'html.parser')\n",
    "    pagination = soup.find_all(\n",
    "        'ul', {'class': 'pagination pagination-sm mb-0'})\n",
    "    if not pagination:\n",
    "        raise BlockNotFound()\n",
    "    number_of_pages = int(pagination[0].find_all('li')[-3].text.split()[-1])\n",
    "    for p in range(number_of_pages):\n",
    "        driver.get(\n",
    "            f'https://etherscan.io/txs?block={block_number}&p={p+1}')\n",
    "        sleep(0.1)\n",
    "        page = driver.page_source\n",
    "        soup = bs(page, 'html.parser')\n",
    "        content = soup.find('tbody', {'class': 'align-middle text-nowrap'})\n",
    "        transactionList = content.find_all('tr')\n",
    "        write_to_csv(transactionList, file_addr)"
   ]
  },
  {
   "cell_type": "markdown",
   "id": "43bf8a5f",
   "metadata": {},
   "source": [
    "**Scraping the recent blocks**"
   ]
  },
  {
   "cell_type": "code",
   "execution_count": 38,
   "id": "23116128",
   "metadata": {},
   "outputs": [],
   "source": [
    "def scrape_recent_transactions(number_of_blocks, file_addr):\n",
    "    make_new_csv(file_addr)\n",
    "    driver = webdriver.Chrome()\n",
    "    driver.get(f'https://etherscan.io/blocks')\n",
    "    sleep(0.1)\n",
    "    page = driver.page_source\n",
    "    soup = bs(page, 'html.parser')\n",
    "    blocks = soup.find('tbody', {'class': 'align-middle text-nowrap'})\n",
    "    last_block = int(blocks.find_all('td')[0].text)\n",
    "    cnt_of_extracted_blocks=0\n",
    "    i=0\n",
    "    while cnt_of_extracted_blocks<number_of_blocks:\n",
    "        sleep(0.1)\n",
    "        try:\n",
    "            scrape_block_data(last_block-i, driver, file_addr)\n",
    "            i+=1\n",
    "        except BlockNotFound:\n",
    "            continue\n",
    "        cnt_of_extracted_blocks+=1\n",
    "    driver.close()"
   ]
  },
  {
   "cell_type": "markdown",
   "id": "9374221b",
   "metadata": {},
   "source": [
    "**Scraping random blocks**"
   ]
  },
  {
   "cell_type": "code",
   "execution_count": 39,
   "id": "593d3819",
   "metadata": {},
   "outputs": [],
   "source": [
    "def scrape_random_transactions(number_of_blocks, file_addr):\n",
    "    make_new_csv(file_addr)\n",
    "    driver = webdriver.Chrome()\n",
    "    driver.get(f'https://etherscan.io/blocks')\n",
    "    sleep(0.1)\n",
    "    page = driver.page_source\n",
    "    soup = bs(page, 'html.parser')\n",
    "    blocks = soup.find('tbody', {'class': 'align-middle text-nowrap'})\n",
    "    last_block = int(blocks.find_all('td')[0].text)\n",
    "    extracted_blocks=set()\n",
    "    cnt_of_extracted_blocks=0\n",
    "    while cnt_of_extracted_blocks < number_of_blocks:\n",
    "        sleep(0.1)\n",
    "        try:\n",
    "            block = random.randint(0, last_block)\n",
    "            if block in extracted_blocks:\n",
    "                continue\n",
    "            extracted_blocks.add(block)\n",
    "            scrape_block_data(block, driver, file_addr)\n",
    "        except BlockNotFound:\n",
    "            continue\n",
    "        cnt_of_extracted_blocks+=1\n",
    "    driver.close()"
   ]
  },
  {
   "cell_type": "code",
   "execution_count": 40,
   "id": "c645b91a",
   "metadata": {},
   "outputs": [],
   "source": [
    "scrape_recent_transactions(10,\"transactions.csv\")\n",
    "scrape_random_transactions(10,\"transactions_random.csv\")"
   ]
  },
  {
   "cell_type": "markdown",
   "id": "6a013b104d142cfc",
   "metadata": {
    "collapsed": false
   },
   "source": [
    "## Data Analysis\n",
    "\n",
    "Now that we have collected the transaction data from Etherscan, the next step is to perform conduct an initial analysis. This task will involve the following steps:\n",
    "\n",
    "1. **Load the Data**: Import the collected transaction data into a pandas DataFrame.\n",
    "\n",
    "2. **Data Cleaning**: Clean the data by converting data types, removing any irrelevant information, and handling **duplicate** values.\n",
    "\n",
    "3. **Statistical Analysis**: Calculate the mean and standard deviation of the population. Evaluate these statistics to understand the distribution of transaction values. The analysis and plotting will be on **Txn Fee** and **Value**.\n",
    "\n",
    "4. **Visualization**: This phase involves the creation of visual representations to aid in the analysis of transaction values. The visualizations include:\n",
    "    - A histogram for each data column, which provides a visual representation of the data distribution. The selection of bin size is crucial and should be based on the data's characteristics to ensure accurate representation. Provide an explanation on the bin size selection!\n",
    "    - A normal distribution plot fitted alongside the histogram to compare the empirical distribution of the data with the theoretical normal distribution.\n",
    "    - A box plot and a violin plot to identify outliers and provide a comprehensive view of the data's distribution.\n",
    "\n",
    "### Deliverables\n",
    "\n",
    "The project aims to deliver the following deliverables:\n",
    "\n",
    "- A refined pandas DataFrame containing the transaction data, which has undergone thorough cleaning and is ready for analysis.\n",
    "- A simple statistical analysis evaluating the population statistics, offering insights into the distribution of transaction values and fees.\n",
    "- A set of visualizations showcasing the distribution of transaction values for the population. These visualizations include histograms, normal distribution plots, box plots, and violin plots, each serving a specific purpose in the analysis.\n",
    "\n",
    "### Getting Started\n",
    "\n",
    "The project starts with the importing of transaction data into a pandas DataFrame, setting the stage for data manipulation and analysis. Subsequent steps involve the cleaning of the data to ensure its quality and reliability. Followed by the calculation of population statistics. Finally, a series of visualizations are created to visually analyze the distribution of transaction values and fees."
   ]
  },
  {
   "cell_type": "code",
   "execution_count": 41,
   "id": "167b3f44",
   "metadata": {},
   "outputs": [
    {
     "name": "stdout",
     "output_type": "stream",
     "text": [
      "value: \n",
      "mean= nan\n",
      "std= nan\n",
      "Txn Fee: \n",
      "mean= nan\n",
      "std= nan\n"
     ]
    }
   ],
   "source": [
    "import pandas as pd\n",
    "df = pd.read_csv('transactions.csv')\n",
    "df.dropna(inplace=True)\n",
    "df.drop_duplicates(keep=\"first\", inplace=True, subset=[\"Transaction Hash\",'Method','Block Number','From','To','Value','Txn Fee'])\n",
    "# df = df[df['Txn Fee'] <= 1]\n",
    "# df = df[df['Value'] > 0]\n",
    "# df = df[df['Txn Fee'] > 0.01]\n",
    "\n",
    "\n",
    "mean_value = df['Value'].mean()\n",
    "std_value = df['Value'].std()\n",
    "mean_txn_fee = df['Txn Fee'].mean()\n",
    "std_txn_fee = df['Txn Fee'].std()\n",
    "\n",
    "print(\"value: \" )\n",
    "print(f\"mean= {mean_value:.4f}\")\n",
    "print(f\"std= {std_value:.4f}\")\n",
    "print(\"Txn Fee: \" )\n",
    "print(f\"mean= {mean_txn_fee:.4f}\")\n",
    "print(f\"std= {std_txn_fee:.4f}\")"
   ]
  },
  {
   "cell_type": "code",
   "execution_count": 42,
   "id": "44ee54bf",
   "metadata": {},
   "outputs": [
    {
     "data": {
      "image/png": "[encoded data removed]",
      "text/plain": [
       "<Figure size 1000x500 with 2 Axes>"
      ]
     },
     "metadata": {},
     "output_type": "display_data"
    }
   ],
   "source": [
    "import matplotlib.pyplot as plt\n",
    "import seaborn as sns\n",
    "\n",
    "sns.set_theme(style=\"whitegrid\")\n",
    "plt.figure(figsize=(10, 5))\n",
    "\n",
    "plt.subplot(1,2,1)\n",
    "sns.histplot(df['Value'], bins=30, kde=True)\n",
    "\n",
    "plt.subplot(1,2,2)\n",
    "sns.histplot(df['Txn Fee'], bins=30, kde=True, color=\"salmon\")\n",
    "plt.show()"
   ]
  },
  {
   "cell_type": "code",
   "execution_count": 43,
   "id": "4cbd5b58",
   "metadata": {},
   "outputs": [
    {
     "name": "stderr",
     "output_type": "stream",
     "text": [
      "c:\\Users\\HP\\AppData\\Local\\Programs\\Python\\Python312\\Lib\\site-packages\\scipy\\stats\\_continuous_distns.py:419: RuntimeWarning: Mean of empty slice.\n",
      "  loc = data.mean()\n",
      "c:\\Users\\HP\\AppData\\Local\\Programs\\Python\\Python312\\Lib\\site-packages\\numpy\\core\\_methods.py:129: RuntimeWarning: invalid value encountered in scalar divide\n",
      "  ret = ret.dtype.type(ret / rcount)\n",
      "c:\\Users\\HP\\AppData\\Local\\Programs\\Python\\Python312\\Lib\\site-packages\\scipy\\stats\\_continuous_distns.py:424: RuntimeWarning: Mean of empty slice.\n",
      "  scale = np.sqrt(((data - loc)**2).mean())\n",
      "c:\\Users\\HP\\AppData\\Local\\Programs\\Python\\Python312\\Lib\\site-packages\\numpy\\lib\\histograms.py:885: RuntimeWarning: invalid value encountered in divide\n",
      "  return n/db/n.sum(), bin_edges\n",
      "c:\\Users\\HP\\AppData\\Local\\Programs\\Python\\Python312\\Lib\\site-packages\\scipy\\stats\\_continuous_distns.py:419: RuntimeWarning: Mean of empty slice.\n",
      "  loc = data.mean()\n",
      "c:\\Users\\HP\\AppData\\Local\\Programs\\Python\\Python312\\Lib\\site-packages\\numpy\\core\\_methods.py:129: RuntimeWarning: invalid value encountered in scalar divide\n",
      "  ret = ret.dtype.type(ret / rcount)\n",
      "c:\\Users\\HP\\AppData\\Local\\Programs\\Python\\Python312\\Lib\\site-packages\\scipy\\stats\\_continuous_distns.py:424: RuntimeWarning: Mean of empty slice.\n",
      "  scale = np.sqrt(((data - loc)**2).mean())\n",
      "c:\\Users\\HP\\AppData\\Local\\Programs\\Python\\Python312\\Lib\\site-packages\\numpy\\lib\\histograms.py:885: RuntimeWarning: invalid value encountered in divide\n",
      "  return n/db/n.sum(), bin_edges\n"
     ]
    },
    {
     "data": {
      "image/png": "[encoded data removed]",
      "text/plain": [
       "<Figure size 1000x500 with 2 Axes>"
      ]
     },
     "metadata": {},
     "output_type": "display_data"
    }
   ],
   "source": [
    "import pandas as pd\n",
    "import matplotlib.pyplot as plt\n",
    "import scipy.stats as stats\n",
    "import numpy as np\n",
    "import seaborn as sns\n",
    "\n",
    "sns.set_theme(style=\"whitegrid\")\n",
    "coulmns = [\"Value\", \"Txn Fee\"]\n",
    "colors = [\"skyblue\", \"salmon\"]\n",
    "plt.figure(figsize=(10, 5))\n",
    "\n",
    "for i in range(len(coulmns)):\n",
    "    plt.subplot(1,2,i+1)\n",
    "    mu, std = stats.norm.fit(df[coulmns[i]])\n",
    "    df[coulmns[i]].plot.hist(bins=100, alpha=0.9, density= True, color = colors[i])\n",
    "    xmin, xmax = plt.xlim()\n",
    "    x = np.linspace(xmin, xmax, 100)\n",
    "    p = stats.norm.pdf(x, mu, std)\n",
    "    plt.plot(x, p, colors[i], linewidth=2)\n",
    "    plt.title(f\"{coulmns[i]} Plot\")\n",
    "\n",
    "plt.show()\n"
   ]
  },
  {
   "cell_type": "code",
   "execution_count": 13,
   "id": "26856fb5",
   "metadata": {},
   "outputs": [
    {
     "data": {
      "image/png": "[encoded data removed]",
      "text/plain": [
       "<Figure size 1000x500 with 2 Axes>"
      ]
     },
     "metadata": {},
     "output_type": "display_data"
    }
   ],
   "source": [
    "sns.set(style=\"whitegrid\")\n",
    "plt.figure(figsize=(10, 5))\n",
    "\n",
    "plt.subplot(1,2,1)\n",
    "sns.boxplot(x=df['Value'], color=\"skyblue\")\n",
    "\n",
    "plt.subplot(1,2,2)\n",
    "sns.boxplot(x=df['Txn Fee'], color=\"salmon\")\n",
    "plt.show()"
   ]
  },
  {
   "cell_type": "code",
   "execution_count": 14,
   "id": "ba2437b0",
   "metadata": {},
   "outputs": [
    {
     "data": {
      "image/png": "[encoded data removed]",
      "text/plain": [
       "<Figure size 1000x500 with 2 Axes>"
      ]
     },
     "metadata": {},
     "output_type": "display_data"
    }
   ],
   "source": [
    "sns.set(style=\"whitegrid\")\n",
    "plt.figure(figsize=(10, 5))\n",
    "\n",
    "plt.subplot(1,2,1)\n",
    "sns.violinplot(x=df['Value'], color=\"skyblue\")\n",
    "\n",
    "plt.subplot(1,2,2)\n",
    "sns.violinplot(x=df['Txn Fee'], color=\"salmon\")\n",
    "plt.show()"
   ]
  },
  {
   "cell_type": "code",
   "execution_count": null,
   "id": "8e33b0f0",
   "metadata": {},
   "outputs": [],
   "source": [
    "import math\n",
    "\n",
    "df2 = df.copy(deep=True)\n",
    "df2['Value'] = df2['Value'].apply(lambda num: math.log1p(num))\n",
    "df2['Txn Fee'] = df2['Txn Fee'].apply(lambda num: math.log(num))\n",
    "\n",
    "import pandas as pd\n",
    "import matplotlib.pyplot as plt\n",
    "import scipy.stats as stats\n",
    "import numpy as np\n",
    "import seaborn as sns\n",
    "\n",
    "sns.set_theme(style=\"whitegrid\")\n",
    "coulmns = [\"Value\", \"Txn Fee\"]\n",
    "colors = [\"skyblue\", \"salmon\", \"red\", \"yellow\"]\n",
    "plt.figure(figsize=(10, 5))\n",
    "\n",
    "for i in range(len(coulmns)):\n",
    "    plt.subplot(1,2,i+1)\n",
    "    mu, std = stats.norm.fit(df2[coulmns[i]])\n",
    "    df2[coulmns[i]].plot.hist(bins=30, color = colors[i] , alpha=0.9 ,density= True)\n",
    "    xmin, xmax = plt.xlim()\n",
    "    x = np.linspace(xmin, xmax, 100)\n",
    "    p = stats.norm.pdf(x, mu, std)\n",
    "    plt.plot(x, p, linewidth=2, color = colors[2 + i])\n",
    "    plt.title(f\"{coulmns[i]} Plot\")"
   ]
  },
  {
   "cell_type": "code",
   "execution_count": null,
   "id": "f481b11a08d876b6",
   "metadata": {
    "ExecuteTime": {
     "end_time": "2024-02-25T14:02:12.152030482Z",
     "start_time": "2024-02-25T14:02:12.101846096Z"
    },
    "collapsed": false
   },
   "outputs": [],
   "source": [
    "# df=pd.read_csv('transactions.csv')\n",
    "# df.drop(columns=['Age'], inplace=True)\n",
    "# # print(len(df))\n",
    "# df.drop_duplicates(inplace=True)\n",
    "# df.drop(columns=['Transaction Hash',\n",
    "#         'Block Number', 'From', 'To'], inplace=True)\n",
    "# # print(len(df))\n",
    "# df.drop(df[df['Value'] <= 0].index, inplace=True)\n",
    "# # print(len(df))\n",
    "# plt.hist(df['Value'], bins=100,density=True)\n",
    "\n",
    "\n",
    "# mu, std = norm.fit(df['Value'])\n",
    "# xmin, xmax = plt.xlim()\n",
    "# x = np.linspace(xmin, xmax, 100)\n",
    "# p = norm.pdf(x, mu, std)\n",
    "# plt.plot(x, p, 'k', linewidth=2)\n",
    "\n",
    "# plt.show()\n",
    "\n",
    "\n",
    "# plt.boxplot(df['Value'])\n",
    "\n",
    "# plt.show()\n",
    "# plt.violinplot(df['Value'])\n",
    "# plt.show()\n",
    "\n",
    "# plt.hist(df['Txn Fee'], bins=10,density=True)\n",
    "\n",
    "# mu, std = norm.fit(df['Txn Fee'])\n",
    "# xmin, xmax = plt.xlim()\n",
    "# x = np.linspace(xmin, xmax, 100)\n",
    "# p = norm.pdf(x, mu, std)\n",
    "# plt.plot(x, p, 'k', linewidth=2)\n",
    "\n",
    "# plt.show()\n",
    "\n",
    "\n",
    "# plt.boxplot(df['Txn Fee'])\n",
    "\n",
    "# plt.show()\n",
    "# plt.violinplot(df['Txn Fee'])\n",
    "# plt.show()\n",
    "\n",
    "# print(df[['Value', 'Txn Fee']].head())\n",
    "# df[['Value', 'Txn Fee']].describe()"
   ]
  },
  {
   "cell_type": "markdown",
   "id": "87030e5e0b4fe1e6",
   "metadata": {
    "collapsed": false
   },
   "source": [
    "## Data Sampling and Analysis\n",
    "\n",
    "In this section, we will delve into the process of data sampling and perform an initial analysis on the transaction data we have collected. Our objective is to understand the distribution of transaction values by sampling the data and comparing the sample statistics with the population statistics.\n",
    "\n",
    "### Steps\n",
    "\n",
    "1. **Load the Data**: Import the collected transaction data into a pandas DataFrame.\n",
    "\n",
    "2. **Data Cleaning**: Clean the data by handling missing values, converting data types, and removing any irrelevant information.\n",
    "\n",
    "3. **Simple Random Sampling (SRS)**: Create a sample from the dataset using a simple random sampling method. This involves randomly selecting a subset of the data without regard to any specific characteristics of the data.\n",
    "\n",
    "4. **Stratified Sampling**: Create another sample from the dataset using a stratified sampling method. This involves dividing the data into strata based on a specific characteristic (e.g., transaction value) and then randomly selecting samples from each stratum. Explain what you have stratified the data by and why you chose this column.\n",
    "\n",
    "5. **Statistical Analysis**: Calculate the mean and standard deviation of the samples and the population. Compare these statistics to understand the distribution of transaction values.\n",
    "\n",
    "6. **Visualization**: Plot the distribution of transaction values and fees for both the samples and the population to visually compare their distributions.\n",
    "\n",
    "### Considerations\n",
    "\n",
    "- **Sample Size**: The size of the sample should be large enough to represent the population accurately but not so large that it becomes impractical to analyze.\n",
    "- **Sampling Method**: Choose the appropriate sampling method based on the characteristics of the data and the research question.\n",
    "\n",
    "Explain the above considerations in your report."
   ]
  },
  {
   "cell_type": "code",
   "execution_count": null,
   "id": "4f6becd41f9b2393",
   "metadata": {
    "ExecuteTime": {
     "end_time": "2024-02-27T19:36:26.333480965Z",
     "start_time": "2024-02-27T19:36:26.324023052Z"
    },
    "collapsed": false
   },
   "outputs": [],
   "source": [
    "# Load data\n",
    "df = pd.read_csv('transactions.csv')\n",
    "\n",
    "# Convert 'Value' and 'Txn Fee' to numeric, forcing non-numeric values to NaN\n",
    "df['Value'] = pd.to_numeric(df['Value'], errors='coerce')\n",
    "df['Txn Fee'] = pd.to_numeric(df['Txn Fee'], errors='coerce')\n",
    "\n",
    "# Drop rows with NaN in specific columns if conversion resulted in NaN values\n",
    "df.dropna(subset=['Value', 'Txn Fee'], inplace=True)\n",
    "\n",
    "# Filtering transactions based on 'Value' and 'Txn Fee' ranges\n",
    "df = df[((df['Value'] > 0) & (df['Value'] < 0.45)) & ((df['Txn Fee'] > 0) & (df['Txn Fee'] < 0.045))]\n",
    "\n",
    "# Adding a new column for the sum of 'Value' and 'Txn Fee'\n",
    "df['Total'] = df['Value'] + np.multiply(df['Txn Fee'],df['Value'])\n",
    "\n",
    "# Drop duplicates\n",
    "df.drop_duplicates(subset=[\"Transaction Hash\", 'Method', 'Block Number', 'From', 'To', 'Value', 'Txn Fee'], keep=\"first\", inplace=True)\n",
    "\n",
    "# Simple Random Sampling (SRS)\n",
    "# Sample size chosen as 100 for demonstration; adjust based on your dataset size and analysis needs\n",
    "sample_size = 100\n",
    "srs_sample = df.sample(n=sample_size, random_state=42)\n",
    "\n",
    "# Stratified Sampling\n",
    "df['Method'] = df['Method'].astype('category')\n",
    "strata = df.groupby('Method', group_keys=False)\n",
    "# Apply proportional sampling within each stratum\n",
    "stratified_sample = strata.apply(lambda x: x.sample(int(np.rint(sample_size*len(x)/len(df))), random_state=42))\n",
    "\n",
    "# Statistical Analysis\n",
    "print(\"Population Statistics:\")\n",
    "print(df[['Value', 'Txn Fee']].describe())\n",
    "\n",
    "print(\"\\nSimple Random Sample Statistics:\")\n",
    "print(srs_sample[['Value', 'Txn Fee']].describe())\n",
    "\n",
    "print(\"\\nStratified Sample Statistics:\")\n",
    "print(stratified_sample[['Value', 'Txn Fee']].describe())\n",
    "\n",
    "# Visualization\n",
    "sns.set_theme(style=\"whitegrid\")\n",
    "fig, axs = plt.subplots(3, 1, figsize=(10, 15))\n",
    "\n",
    "# Population Distribution\n",
    "sns.histplot(df['Value'], bins=30, kde=True, color=\"skyblue\", ax=axs[0])\n",
    "axs[0].set_title('Population Distribution of Transaction Values')\n",
    "\n",
    "# SRS Distribution\n",
    "sns.histplot(srs_sample['Value'], bins=30, kde=True, color=\"olive\", ax=axs[1])\n",
    "axs[1].set_title('Simple Random Sample Distribution of Transaction Values')\n",
    "\n",
    "# Stratified Sample Distribution\n",
    "sns.histplot(stratified_sample['Value'], bins=30, kde=True, color=\"gold\", ax=axs[2])\n",
    "axs[2].set_title('Stratified Sample Distribution of Transaction Values')\n",
    "\n",
    "plt.tight_layout()\n",
    "plt.show()"
   ]
  }
 ],
 "metadata": {
  "kernelspec": {
   "display_name": "Python 3 (ipykernel)",
   "language": "python",
   "name": "python3"
  },
  "language_info": {
   "codemirror_mode": {
    "name": "ipython",
    "version": 3
   },
   "file_extension": ".py",
   "mimetype": "text/x-python",
   "name": "python",
   "nbconvert_exporter": "python",
   "pygments_lexer": "ipython3",
   "version": "3.12.0"
  }
 },
 "nbformat": 4,
 "nbformat_minor": 5
}
