{
 "cells": [
  {
   "cell_type": "markdown",
   "metadata": {},
   "source": [
    "# P1\n",
    "Written by Babak Hosseini Parsa Ahmadi 810101609, Mohtasham 810101408 and Mahdy Naeini 810101536\\\n",
    "Data science project abou digikala mobile phones."
   ]
  },
  {
   "cell_type": "code",
   "execution_count": 1,
   "metadata": {},
   "outputs": [],
   "source": [
    "from bs4 import BeautifulSoup as bs\n",
    "from selenium import webdriver\n",
    "from selenium.webdriver.common.by import By\n",
    "from time import sleep\n",
    "import pandas as pd\n",
    "import csv\n",
    "import matplotlib.pyplot as plt\n",
    "import numpy as np\n",
    "import random\n",
    "import math\n",
    "import scipy.stats as stats\n",
    "import numpy as np\n",
    "import seaborn as sns"
   ]
  },
  {
   "cell_type": "code",
   "execution_count": 2,
   "metadata": {},
   "outputs": [],
   "source": [
    "sub_features = {\"وزن\":\"Weight\"}"
   ]
  },
  {
   "cell_type": "code",
   "execution_count": 3,
   "metadata": {},
   "outputs": [],
   "source": [
    "def make_new_csv(file_addr):\n",
    "    with open(file_addr, mode='w') as mobiles_file:\n",
    "        mobilesCSV = csv.writer(mobiles_file)\n",
    "        mobilesCSV.writerow(list(sub_features.values()))"
   ]
  },
  {
   "cell_type": "code",
   "execution_count": 79,
   "metadata": {},
   "outputs": [],
   "source": [
    "def write_to_csv(addr, driver,writer):\n",
    "    driver.get(\"https://www.digikala.com/\"+addr)\n",
    "    sleep(2)\n",
    "    driver.execute_script('window.scrollTo(0, document.body.scrollHeight*0.7);')\n",
    "    sleep(3)\n",
    "    driver.find_elements(\n",
    "        By.XPATH, \"//*[contains(text(), 'مشاهده بیشتر')]\")[-1].click()\n",
    "    page = driver.page_source\n",
    "    soup = bs(page, 'html.parser')\n",
    "    global sub_features\n",
    "    scraped_sub_features = [\"\"]*len(sub_features)\n",
    "    for i,feature in enumerate(sub_features.keys()):\n",
    "        scraped_sub_features[i] = soup.find(\n",
    "            string=feature).parent.parent.findAll('p')[-1].text\n",
    "    writer.writerow(list(scraped_sub_features))"
   ]
  },
  {
   "cell_type": "code",
   "execution_count": 31,
   "metadata": {},
   "outputs": [],
   "source": [
    "def scrape_all_mobiles(file_addr, number_of_mobiles):\n",
    "    driver = webdriver.Chrome()\n",
    "    mobiles=[]\n",
    "    i=1\n",
    "    while len(mobiles) < number_of_mobiles:\n",
    "        driver.get(f'https://www.digikala.com/search/category-mobile-phone/product-list/?page={i}')\n",
    "        sleep(1)\n",
    "        page = driver.page_source\n",
    "        soup = bs(page, 'html.parser')\n",
    "        mobiles = soup.find_all(\n",
    "            'div', {'class': 'product-list_ProductList__item__LiiNI'})\n",
    "        driver.execute_script('window.scrollTo(0, document.body.scrollHeight);')\n",
    "        sleep(1)\n",
    "        i+=1\n",
    "    csv_file = open(file_addr, mode='a', encoding='utf-8')\n",
    "    csv_writer=csv.writer(csv_file)\n",
    "    for mobile in mobiles:\n",
    "        write_to_csv(mobile.find('a')['href'], driver, csv_writer)\n",
    "    driver.close()"
   ]
  },
  {
   "cell_type": "code",
   "execution_count": 6,
   "metadata": {},
   "outputs": [],
   "source": [
    "FILE_ADDR='digikala_phones.csv'"
   ]
  },
  {
   "cell_type": "code",
   "execution_count": 7,
   "metadata": {},
   "outputs": [],
   "source": [
    "make_new_csv(FILE_ADDR)"
   ]
  },
  {
   "cell_type": "code",
   "execution_count": 78,
   "metadata": {},
   "outputs": [
    {
     "name": "stderr",
     "output_type": "stream",
     "text": [
      "/tmp/ipykernel_4322/1990730596.py:13: DeprecationWarning: The 'text' argument to find()-type methods is deprecated. Use 'string' instead.\n",
      "  scraped_sub_features[i] = soup.find(\n"
     ]
    },
    {
     "ename": "ElementClickInterceptedException",
     "evalue": "Message: element click intercepted: Element is not clickable at point (860, 4136)\n  (Session info: chrome=122.0.6261.69)\nStacktrace:\n#0 0x5e79b0b1ff33 <unknown>\n#1 0x5e79b0817ce6 <unknown>\n#2 0x5e79b0869a73 <unknown>\n#3 0x5e79b086798e <unknown>\n#4 0x5e79b0865367 <unknown>\n#5 0x5e79b0864732 <unknown>\n#6 0x5e79b0857d27 <unknown>\n#7 0x5e79b0884eb2 <unknown>\n#8 0x5e79b08576b8 <unknown>\n#9 0x5e79b088507e <unknown>\n#10 0x5e79b08a3899 <unknown>\n#11 0x5e79b0884c53 <unknown>\n#12 0x5e79b0855db3 <unknown>\n#13 0x5e79b085677e <unknown>\n#14 0x5e79b0ae586b <unknown>\n#15 0x5e79b0ae9885 <unknown>\n#16 0x5e79b0ad3181 <unknown>\n#17 0x5e79b0aea412 <unknown>\n#18 0x5e79b0ab725f <unknown>\n#19 0x5e79b0b0e528 <unknown>\n#20 0x5e79b0b0e723 <unknown>\n#21 0x5e79b0b1f0e4 <unknown>\n#22 0x7aae1e297b5a <unknown>\n",
     "output_type": "error",
     "traceback": [
      "\u001b[0;31m---------------------------------------------------------------------------\u001b[0m",
      "\u001b[0;31mElementClickInterceptedException\u001b[0m          Traceback (most recent call last)",
      "Cell \u001b[0;32mIn[78], line 1\u001b[0m\n\u001b[0;32m----> 1\u001b[0m \u001b[43mscrape_all_mobiles\u001b[49m\u001b[43m(\u001b[49m\u001b[43mFILE_ADDR\u001b[49m\u001b[43m,\u001b[49m\u001b[38;5;241;43m5\u001b[39;49m\u001b[43m)\u001b[49m\n",
      "Cell \u001b[0;32mIn[31], line 18\u001b[0m, in \u001b[0;36mscrape_all_mobiles\u001b[0;34m(file_addr, number_of_mobiles)\u001b[0m\n\u001b[1;32m     16\u001b[0m csv_writer\u001b[38;5;241m=\u001b[39mcsv\u001b[38;5;241m.\u001b[39mwriter(csv_file)\n\u001b[1;32m     17\u001b[0m \u001b[38;5;28;01mfor\u001b[39;00m mobile \u001b[38;5;129;01min\u001b[39;00m mobiles:\n\u001b[0;32m---> 18\u001b[0m     \u001b[43mwrite_to_csv\u001b[49m\u001b[43m(\u001b[49m\u001b[43mmobile\u001b[49m\u001b[38;5;241;43m.\u001b[39;49m\u001b[43mfind\u001b[49m\u001b[43m(\u001b[49m\u001b[38;5;124;43m'\u001b[39;49m\u001b[38;5;124;43ma\u001b[39;49m\u001b[38;5;124;43m'\u001b[39;49m\u001b[43m)\u001b[49m\u001b[43m[\u001b[49m\u001b[38;5;124;43m'\u001b[39;49m\u001b[38;5;124;43mhref\u001b[39;49m\u001b[38;5;124;43m'\u001b[39;49m\u001b[43m]\u001b[49m\u001b[43m,\u001b[49m\u001b[43m \u001b[49m\u001b[43mdriver\u001b[49m\u001b[43m,\u001b[49m\u001b[43m \u001b[49m\u001b[43mcsv_writer\u001b[49m\u001b[43m)\u001b[49m\n\u001b[1;32m     19\u001b[0m driver\u001b[38;5;241m.\u001b[39mclose()\n",
      "Cell \u001b[0;32mIn[77], line 7\u001b[0m, in \u001b[0;36mwrite_to_csv\u001b[0;34m(addr, driver, writer)\u001b[0m\n\u001b[1;32m      4\u001b[0m driver\u001b[38;5;241m.\u001b[39mexecute_script(\u001b[38;5;124m'\u001b[39m\u001b[38;5;124mwindow.scrollTo(0, document.body.scrollHeight*0.7);\u001b[39m\u001b[38;5;124m'\u001b[39m)\n\u001b[1;32m      5\u001b[0m sleep(\u001b[38;5;241m3\u001b[39m)\n\u001b[1;32m      6\u001b[0m \u001b[43mdriver\u001b[49m\u001b[38;5;241;43m.\u001b[39;49m\u001b[43mfind_elements\u001b[49m\u001b[43m(\u001b[49m\n\u001b[0;32m----> 7\u001b[0m \u001b[43m    \u001b[49m\u001b[43mBy\u001b[49m\u001b[38;5;241;43m.\u001b[39;49m\u001b[43mXPATH\u001b[49m\u001b[43m,\u001b[49m\u001b[43m \u001b[49m\u001b[38;5;124;43m\"\u001b[39;49m\u001b[38;5;124;43m//*[contains(text(), \u001b[39;49m\u001b[38;5;124;43m'\u001b[39;49m\u001b[38;5;124;43mمشاهده بیشتر\u001b[39;49m\u001b[38;5;124;43m'\u001b[39;49m\u001b[38;5;124;43m)]\u001b[39;49m\u001b[38;5;124;43m\"\u001b[39;49m\u001b[43m)\u001b[49m\u001b[43m[\u001b[49m\u001b[38;5;241;43m-\u001b[39;49m\u001b[38;5;241;43m1\u001b[39;49m\u001b[43m]\u001b[49m\u001b[38;5;241;43m.\u001b[39;49m\u001b[43mclick\u001b[49m\u001b[43m(\u001b[49m\u001b[43m)\u001b[49m\n\u001b[1;32m      8\u001b[0m page \u001b[38;5;241m=\u001b[39m driver\u001b[38;5;241m.\u001b[39mpage_source\n\u001b[1;32m      9\u001b[0m soup \u001b[38;5;241m=\u001b[39m bs(page, \u001b[38;5;124m'\u001b[39m\u001b[38;5;124mhtml.parser\u001b[39m\u001b[38;5;124m'\u001b[39m)\n",
      "File \u001b[0;32m~/Codes/Python/lib/python3.11/site-packages/selenium/webdriver/remote/webelement.py:94\u001b[0m, in \u001b[0;36mWebElement.click\u001b[0;34m(self)\u001b[0m\n\u001b[1;32m     92\u001b[0m \u001b[38;5;28;01mdef\u001b[39;00m \u001b[38;5;21mclick\u001b[39m(\u001b[38;5;28mself\u001b[39m) \u001b[38;5;241m-\u001b[39m\u001b[38;5;241m>\u001b[39m \u001b[38;5;28;01mNone\u001b[39;00m:\n\u001b[1;32m     93\u001b[0m \u001b[38;5;250m    \u001b[39m\u001b[38;5;124;03m\"\"\"Clicks the element.\"\"\"\u001b[39;00m\n\u001b[0;32m---> 94\u001b[0m     \u001b[38;5;28;43mself\u001b[39;49m\u001b[38;5;241;43m.\u001b[39;49m\u001b[43m_execute\u001b[49m\u001b[43m(\u001b[49m\u001b[43mCommand\u001b[49m\u001b[38;5;241;43m.\u001b[39;49m\u001b[43mCLICK_ELEMENT\u001b[49m\u001b[43m)\u001b[49m\n",
      "File \u001b[0;32m~/Codes/Python/lib/python3.11/site-packages/selenium/webdriver/remote/webelement.py:395\u001b[0m, in \u001b[0;36mWebElement._execute\u001b[0;34m(self, command, params)\u001b[0m\n\u001b[1;32m    393\u001b[0m     params \u001b[38;5;241m=\u001b[39m {}\n\u001b[1;32m    394\u001b[0m params[\u001b[38;5;124m\"\u001b[39m\u001b[38;5;124mid\u001b[39m\u001b[38;5;124m\"\u001b[39m] \u001b[38;5;241m=\u001b[39m \u001b[38;5;28mself\u001b[39m\u001b[38;5;241m.\u001b[39m_id\n\u001b[0;32m--> 395\u001b[0m \u001b[38;5;28;01mreturn\u001b[39;00m \u001b[38;5;28;43mself\u001b[39;49m\u001b[38;5;241;43m.\u001b[39;49m\u001b[43m_parent\u001b[49m\u001b[38;5;241;43m.\u001b[39;49m\u001b[43mexecute\u001b[49m\u001b[43m(\u001b[49m\u001b[43mcommand\u001b[49m\u001b[43m,\u001b[49m\u001b[43m \u001b[49m\u001b[43mparams\u001b[49m\u001b[43m)\u001b[49m\n",
      "File \u001b[0;32m~/Codes/Python/lib/python3.11/site-packages/selenium/webdriver/remote/webdriver.py:347\u001b[0m, in \u001b[0;36mWebDriver.execute\u001b[0;34m(self, driver_command, params)\u001b[0m\n\u001b[1;32m    345\u001b[0m response \u001b[38;5;241m=\u001b[39m \u001b[38;5;28mself\u001b[39m\u001b[38;5;241m.\u001b[39mcommand_executor\u001b[38;5;241m.\u001b[39mexecute(driver_command, params)\n\u001b[1;32m    346\u001b[0m \u001b[38;5;28;01mif\u001b[39;00m response:\n\u001b[0;32m--> 347\u001b[0m     \u001b[38;5;28;43mself\u001b[39;49m\u001b[38;5;241;43m.\u001b[39;49m\u001b[43merror_handler\u001b[49m\u001b[38;5;241;43m.\u001b[39;49m\u001b[43mcheck_response\u001b[49m\u001b[43m(\u001b[49m\u001b[43mresponse\u001b[49m\u001b[43m)\u001b[49m\n\u001b[1;32m    348\u001b[0m     response[\u001b[38;5;124m\"\u001b[39m\u001b[38;5;124mvalue\u001b[39m\u001b[38;5;124m\"\u001b[39m] \u001b[38;5;241m=\u001b[39m \u001b[38;5;28mself\u001b[39m\u001b[38;5;241m.\u001b[39m_unwrap_value(response\u001b[38;5;241m.\u001b[39mget(\u001b[38;5;124m\"\u001b[39m\u001b[38;5;124mvalue\u001b[39m\u001b[38;5;124m\"\u001b[39m, \u001b[38;5;28;01mNone\u001b[39;00m))\n\u001b[1;32m    349\u001b[0m     \u001b[38;5;28;01mreturn\u001b[39;00m response\n",
      "File \u001b[0;32m~/Codes/Python/lib/python3.11/site-packages/selenium/webdriver/remote/errorhandler.py:229\u001b[0m, in \u001b[0;36mErrorHandler.check_response\u001b[0;34m(self, response)\u001b[0m\n\u001b[1;32m    227\u001b[0m         alert_text \u001b[38;5;241m=\u001b[39m value[\u001b[38;5;124m\"\u001b[39m\u001b[38;5;124malert\u001b[39m\u001b[38;5;124m\"\u001b[39m]\u001b[38;5;241m.\u001b[39mget(\u001b[38;5;124m\"\u001b[39m\u001b[38;5;124mtext\u001b[39m\u001b[38;5;124m\"\u001b[39m)\n\u001b[1;32m    228\u001b[0m     \u001b[38;5;28;01mraise\u001b[39;00m exception_class(message, screen, stacktrace, alert_text)  \u001b[38;5;66;03m# type: ignore[call-arg]  # mypy is not smart enough here\u001b[39;00m\n\u001b[0;32m--> 229\u001b[0m \u001b[38;5;28;01mraise\u001b[39;00m exception_class(message, screen, stacktrace)\n",
      "\u001b[0;31mElementClickInterceptedException\u001b[0m: Message: element click intercepted: Element is not clickable at point (860, 4136)\n  (Session info: chrome=122.0.6261.69)\nStacktrace:\n#0 0x5e79b0b1ff33 <unknown>\n#1 0x5e79b0817ce6 <unknown>\n#2 0x5e79b0869a73 <unknown>\n#3 0x5e79b086798e <unknown>\n#4 0x5e79b0865367 <unknown>\n#5 0x5e79b0864732 <unknown>\n#6 0x5e79b0857d27 <unknown>\n#7 0x5e79b0884eb2 <unknown>\n#8 0x5e79b08576b8 <unknown>\n#9 0x5e79b088507e <unknown>\n#10 0x5e79b08a3899 <unknown>\n#11 0x5e79b0884c53 <unknown>\n#12 0x5e79b0855db3 <unknown>\n#13 0x5e79b085677e <unknown>\n#14 0x5e79b0ae586b <unknown>\n#15 0x5e79b0ae9885 <unknown>\n#16 0x5e79b0ad3181 <unknown>\n#17 0x5e79b0aea412 <unknown>\n#18 0x5e79b0ab725f <unknown>\n#19 0x5e79b0b0e528 <unknown>\n#20 0x5e79b0b0e723 <unknown>\n#21 0x5e79b0b1f0e4 <unknown>\n#22 0x7aae1e297b5a <unknown>\n"
     ]
    }
   ],
   "source": [
    "scrape_all_mobiles(FILE_ADDR,5)"
   ]
  }
 ],
 "metadata": {
  "kernelspec": {
   "display_name": "Python",
   "language": "python",
   "name": "python3"
  },
  "language_info": {
   "codemirror_mode": {
    "name": "ipython",
    "version": 3
   },
   "file_extension": ".py",
   "mimetype": "text/x-python",
   "name": "python",
   "nbconvert_exporter": "python",
   "pygments_lexer": "ipython3",
   "version": "3.11.6"
  }
 },
 "nbformat": 4,
 "nbformat_minor": 2
}
